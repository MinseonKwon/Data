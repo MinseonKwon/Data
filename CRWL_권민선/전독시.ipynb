{
 "cells": [
  {
   "cell_type": "markdown",
   "metadata": {},
   "source": [
    "# 전지적 독자 시점 댓글 감성분석(다중분류)"
   ]
  },
  {
   "cell_type": "code",
   "execution_count": 38,
   "metadata": {},
   "outputs": [],
   "source": [
    "import pandas as pd\n",
    "import numpy as np"
   ]
  },
  {
   "cell_type": "code",
   "execution_count": 2,
   "metadata": {},
   "outputs": [],
   "source": [
    "from sklearn.model_selection import train_test_split"
   ]
  },
  {
   "cell_type": "code",
   "execution_count": 7,
   "metadata": {
    "scrolled": true
   },
   "outputs": [],
   "source": [
    "from keras.preprocessing.text import Tokenizer"
   ]
  },
  {
   "cell_type": "code",
   "execution_count": 8,
   "metadata": {},
   "outputs": [],
   "source": [
    "keyword = {'사이다인':0,'빵터지는':1,'설레는':2,'어두운':3,'기다려지는':4,'그림체가 귀여운':5,'그림체가 디테일한':6,'잘생긴':7,'똑똑한':8,'먼치킨인':9,'게임물':10,'소름돋는':11,'판타지물':12,'고구마인':13}\n",
    "label = ['사이다인','빵터지는','설레는','어두운','기다려지는','그림체가 귀여운','그림체가 디테일한','잘생긴','똑똑한','먼치킨인','게임물','소름돋는','판타지물','고구마인']"
   ]
  },
  {
   "cell_type": "markdown",
   "metadata": {},
   "source": [
    "## 데이터 정리 및 train 과 test 데이터 생성"
   ]
  },
  {
   "cell_type": "code",
   "execution_count": 9,
   "metadata": {},
   "outputs": [],
   "source": [
    "data = pd.read_csv('전독시 라벨링.csv', encoding='utf-8')"
   ]
  },
  {
   "cell_type": "code",
   "execution_count": 10,
   "metadata": {},
   "outputs": [
    {
     "data": {
      "text/html": [
       "<div>\n",
       "<style scoped>\n",
       "    .dataframe tbody tr th:only-of-type {\n",
       "        vertical-align: middle;\n",
       "    }\n",
       "\n",
       "    .dataframe tbody tr th {\n",
       "        vertical-align: top;\n",
       "    }\n",
       "\n",
       "    .dataframe thead th {\n",
       "        text-align: right;\n",
       "    }\n",
       "</style>\n",
       "<table border=\"1\" class=\"dataframe\">\n",
       "  <thead>\n",
       "    <tr style=\"text-align: right;\">\n",
       "      <th></th>\n",
       "      <th>comment</th>\n",
       "      <th>label</th>\n",
       "    </tr>\n",
       "  </thead>\n",
       "  <tbody>\n",
       "    <tr>\n",
       "      <th>0</th>\n",
       "      <td>도깨비 얼굴이 ㅎㄷㄷ</td>\n",
       "      <td>어두운</td>\n",
       "    </tr>\n",
       "    <tr>\n",
       "      <th>1</th>\n",
       "      <td>어 저 잼민인데 너무 재미있어요</td>\n",
       "      <td>기다려지는</td>\n",
       "    </tr>\n",
       "    <tr>\n",
       "      <th>2</th>\n",
       "      <td>와 존나 재밌는데 ㄹㅇ</td>\n",
       "      <td>기다려지는</td>\n",
       "    </tr>\n",
       "    <tr>\n",
       "      <th>3</th>\n",
       "      <td>나만 도깨비 첫인상 귀엽다고 생각함</td>\n",
       "      <td>그림체가 귀여운</td>\n",
       "    </tr>\n",
       "    <tr>\n",
       "      <th>4</th>\n",
       "      <td>와 ㅁㅊ</td>\n",
       "      <td>소름돋는</td>\n",
       "    </tr>\n",
       "  </tbody>\n",
       "</table>\n",
       "</div>"
      ],
      "text/plain": [
       "                comment     label\n",
       "0           도깨비 얼굴이 ㅎㄷㄷ       어두운\n",
       "1    어 저 잼민인데 너무 재미있어요      기다려지는\n",
       "2          와 존나 재밌는데 ㄹㅇ     기다려지는\n",
       "3  나만 도깨비 첫인상 귀엽다고 생각함   그림체가 귀여운\n",
       "4                 와 ㅁㅊ       소름돋는"
      ]
     },
     "execution_count": 10,
     "metadata": {},
     "output_type": "execute_result"
    }
   ],
   "source": [
    "data.head()"
   ]
  },
  {
   "cell_type": "code",
   "execution_count": 11,
   "metadata": {},
   "outputs": [],
   "source": [
    "data['label'].replace('', np.nan, inplace=True)# 널값 제거하기 위해 빈 칸은 널값을 넣어주기\n",
    "data = data.dropna(how = 'any') # Null 값이 존재하는 행 제거"
   ]
  },
  {
   "cell_type": "code",
   "execution_count": null,
   "metadata": {},
   "outputs": [],
   "source": []
  },
  {
   "cell_type": "code",
   "execution_count": 12,
   "metadata": {},
   "outputs": [],
   "source": [
    "data['new_label']= data['label'].apply(lambda v: keyword.get(v, v))"
   ]
  },
  {
   "cell_type": "code",
   "execution_count": 13,
   "metadata": {},
   "outputs": [
    {
     "data": {
      "text/html": [
       "<div>\n",
       "<style scoped>\n",
       "    .dataframe tbody tr th:only-of-type {\n",
       "        vertical-align: middle;\n",
       "    }\n",
       "\n",
       "    .dataframe tbody tr th {\n",
       "        vertical-align: top;\n",
       "    }\n",
       "\n",
       "    .dataframe thead th {\n",
       "        text-align: right;\n",
       "    }\n",
       "</style>\n",
       "<table border=\"1\" class=\"dataframe\">\n",
       "  <thead>\n",
       "    <tr style=\"text-align: right;\">\n",
       "      <th></th>\n",
       "      <th>comment</th>\n",
       "      <th>label</th>\n",
       "      <th>new_label</th>\n",
       "    </tr>\n",
       "  </thead>\n",
       "  <tbody>\n",
       "    <tr>\n",
       "      <th>0</th>\n",
       "      <td>도깨비 얼굴이 ㅎㄷㄷ</td>\n",
       "      <td>어두운</td>\n",
       "      <td>3</td>\n",
       "    </tr>\n",
       "    <tr>\n",
       "      <th>1</th>\n",
       "      <td>어 저 잼민인데 너무 재미있어요</td>\n",
       "      <td>기다려지는</td>\n",
       "      <td>4</td>\n",
       "    </tr>\n",
       "    <tr>\n",
       "      <th>2</th>\n",
       "      <td>와 존나 재밌는데 ㄹㅇ</td>\n",
       "      <td>기다려지는</td>\n",
       "      <td>4</td>\n",
       "    </tr>\n",
       "    <tr>\n",
       "      <th>3</th>\n",
       "      <td>나만 도깨비 첫인상 귀엽다고 생각함</td>\n",
       "      <td>그림체가 귀여운</td>\n",
       "      <td>5</td>\n",
       "    </tr>\n",
       "    <tr>\n",
       "      <th>4</th>\n",
       "      <td>와 ㅁㅊ</td>\n",
       "      <td>소름돋는</td>\n",
       "      <td>11</td>\n",
       "    </tr>\n",
       "    <tr>\n",
       "      <th>...</th>\n",
       "      <td>...</td>\n",
       "      <td>...</td>\n",
       "      <td>...</td>\n",
       "    </tr>\n",
       "    <tr>\n",
       "      <th>722</th>\n",
       "      <td>오늘도 재미있네요독자 얼굴이</td>\n",
       "      <td>잘생긴</td>\n",
       "      <td>7</td>\n",
       "    </tr>\n",
       "    <tr>\n",
       "      <th>723</th>\n",
       "      <td>유중혁처럼 말해보기ㅋㅋㅋㅋㅋㅋㅋㅋㅋㅋㅋㅋㅋ</td>\n",
       "      <td>빵터지는</td>\n",
       "      <td>1</td>\n",
       "    </tr>\n",
       "    <tr>\n",
       "      <th>724</th>\n",
       "      <td>잔인한건 너희들이겠지 역겨워</td>\n",
       "      <td>어두운</td>\n",
       "      <td>3</td>\n",
       "    </tr>\n",
       "    <tr>\n",
       "      <th>725</th>\n",
       "      <td>막컷 독자 되게 잘생겼다  누가 이 독자보고 오징어래</td>\n",
       "      <td>잘생긴</td>\n",
       "      <td>7</td>\n",
       "    </tr>\n",
       "    <tr>\n",
       "      <th>726</th>\n",
       "      <td>이건 존잼이 아니라 ㅈㄴ꿀잼 입니다 그림체도 좋고</td>\n",
       "      <td>그림체가 디테일한</td>\n",
       "      <td>6</td>\n",
       "    </tr>\n",
       "  </tbody>\n",
       "</table>\n",
       "<p>718 rows × 3 columns</p>\n",
       "</div>"
      ],
      "text/plain": [
       "                           comment      label  new_label\n",
       "0                      도깨비 얼굴이 ㅎㄷㄷ        어두운          3\n",
       "1               어 저 잼민인데 너무 재미있어요       기다려지는          4\n",
       "2                     와 존나 재밌는데 ㄹㅇ      기다려지는          4\n",
       "3             나만 도깨비 첫인상 귀엽다고 생각함    그림체가 귀여운          5\n",
       "4                            와 ㅁㅊ        소름돋는         11\n",
       "..                             ...        ...        ...\n",
       "722                오늘도 재미있네요독자 얼굴이        잘생긴          7\n",
       "723        유중혁처럼 말해보기ㅋㅋㅋㅋㅋㅋㅋㅋㅋㅋㅋㅋㅋ       빵터지는          1\n",
       "724               잔인한건 너희들이겠지 역겨워         어두운          3\n",
       "725  막컷 독자 되게 잘생겼다  누가 이 독자보고 오징어래        잘생긴          7\n",
       "726    이건 존잼이 아니라 ㅈㄴ꿀잼 입니다 그림체도 좋고  그림체가 디테일한          6\n",
       "\n",
       "[718 rows x 3 columns]"
      ]
     },
     "execution_count": 13,
     "metadata": {},
     "output_type": "execute_result"
    }
   ],
   "source": [
    "data"
   ]
  },
  {
   "cell_type": "code",
   "execution_count": 16,
   "metadata": {},
   "outputs": [
    {
     "data": {
      "text/plain": [
       "array([ 3,  4,  5, 11,  9,  6, 10,  7, 12,  8,  1,  0, 13,  2],\n",
       "      dtype=int64)"
      ]
     },
     "execution_count": 16,
     "metadata": {},
     "output_type": "execute_result"
    }
   ],
   "source": [
    "data['new_label'].unique()"
   ]
  },
  {
   "cell_type": "markdown",
   "metadata": {},
   "source": [
    "## =========================================\n",
    "## 데이터 준비 "
   ]
  },
  {
   "cell_type": "markdown",
   "metadata": {},
   "source": [
    "## 리스트 텐서로 변환 "
   ]
  },
  {
   "cell_type": "code",
   "execution_count": 17,
   "metadata": {},
   "outputs": [],
   "source": [
    "stopwords = ['진짜', '존나', '좀', '정말', '왜', '그냥', '것', '개', '뭐', '사람', '놈', '너', '걍', '잘', '임', '제발', '의', '가', '이', '은', '들', '는', '좀', '잘', '걍', '과', '도', '를', '으로', '자', '에', '와', '한', '하다']\n",
    "from konlpy.tag import Okt\n"
   ]
  },
  {
   "cell_type": "code",
   "execution_count": 18,
   "metadata": {},
   "outputs": [],
   "source": [
    "okt = Okt() \n",
    "X = []\n",
    "for sentence in data['comment']:\n",
    "    temp_X = []\n",
    "    temp_X = okt.morphs(sentence, stem=True) # 토큰화 \n",
    "    temp_X = [word for word in temp_X if not word in stopwords] # 불용어 제거 \n",
    "    X.append(temp_X)\n",
    "\n"
   ]
  },
  {
   "cell_type": "code",
   "execution_count": 19,
   "metadata": {},
   "outputs": [],
   "source": [
    "# 정수 인코딩\n",
    "max_words = 15000\n",
    "tokenizer = Tokenizer(num_words=max_words, filters='!\"#$%&()*+,-./:;<=>?@[\\]^_`{|}~', lower=True) # 특수 문자를 제거 및 단어개수 최대값 설정\n",
    "tokenizer.fit_on_texts(X)\n",
    "X = tokenizer.texts_to_sequences(X) \n",
    "\n"
   ]
  },
  {
   "cell_type": "code",
   "execution_count": 20,
   "metadata": {},
   "outputs": [
    {
     "name": "stdout",
     "output_type": "stream",
     "text": [
      "[[35, 29, 374], [200, 31, 760, 112, 6, 91], [4, 5, 70], [37, 88, 35, 761, 11, 58, 124]]\n"
     ]
    }
   ],
   "source": [
    "print((X[:4]))"
   ]
  },
  {
   "cell_type": "code",
   "execution_count": 21,
   "metadata": {},
   "outputs": [],
   "source": [
    "#Y =data['new_label'] "
   ]
  },
  {
   "cell_type": "code",
   "execution_count": 22,
   "metadata": {},
   "outputs": [],
   "source": [
    "Y = []\n",
    "for i in data['new_label'] :\n",
    "    Y.append(i)"
   ]
  },
  {
   "cell_type": "code",
   "execution_count": 23,
   "metadata": {},
   "outputs": [
    {
     "name": "stdout",
     "output_type": "stream",
     "text": [
      "<class 'list'>\n"
     ]
    }
   ],
   "source": [
    "print(type(Y))"
   ]
  },
  {
   "cell_type": "code",
   "execution_count": 24,
   "metadata": {},
   "outputs": [
    {
     "name": "stdout",
     "output_type": "stream",
     "text": [
      "<class 'int'>\n"
     ]
    }
   ],
   "source": [
    "print(type(X[0][0]))"
   ]
  },
  {
   "cell_type": "code",
   "execution_count": 25,
   "metadata": {},
   "outputs": [],
   "source": [
    "maxlen = 30 \n",
    "class_number = 14                                    # 분류할 클래스의 수"
   ]
  },
  {
   "cell_type": "code",
   "execution_count": 26,
   "metadata": {},
   "outputs": [],
   "source": [
    "# 원-핫 인코딩\n",
    "from keras.utils.np_utils import to_categorical\n",
    "from keras.preprocessing import sequence\n",
    "X = sequence.pad_sequences(X, maxlen=maxlen)\n",
    "Y = to_categorical(Y, num_classes=class_number)"
   ]
  },
  {
   "cell_type": "code",
   "execution_count": 27,
   "metadata": {},
   "outputs": [],
   "source": [
    "from keras.models import Sequential\n",
    "from keras.layers import Dense, Embedding\n",
    "from keras.layers import Flatten"
   ]
  },
  {
   "cell_type": "code",
   "execution_count": 39,
   "metadata": {},
   "outputs": [],
   "source": [
    "# 데이터 나누기\n",
    "X_train, X_test, y_train, y_test = train_test_split(X, Y, test_size=0.25, random_state=42) # Y는 따로 처리하지 않고 넣음."
   ]
  },
  {
   "cell_type": "code",
   "execution_count": 40,
   "metadata": {},
   "outputs": [],
   "source": [
    "y_train = np.asarray(y_train).astype('float32').reshape((-1,1))\n",
    "y_test = np.asarray(y_test).astype('float32').reshape((-1,1))"
   ]
  },
  {
   "cell_type": "markdown",
   "metadata": {},
   "source": [
    "## =========================================\n",
    "## 모델 학습"
   ]
  },
  {
   "cell_type": "code",
   "execution_count": 41,
   "metadata": {},
   "outputs": [
    {
     "name": "stdout",
     "output_type": "stream",
     "text": [
      "Model: \"sequential_4\"\n",
      "_________________________________________________________________\n",
      "Layer (type)                 Output Shape              Param #   \n",
      "=================================================================\n",
      "embedding_4 (Embedding)      (None, 30, 8)             80000     \n",
      "_________________________________________________________________\n",
      "flatten_4 (Flatten)          (None, 240)               0         \n",
      "_________________________________________________________________\n",
      "dense_4 (Dense)              (None, 1)                 241       \n",
      "=================================================================\n",
      "Total params: 80,241\n",
      "Trainable params: 80,241\n",
      "Non-trainable params: 0\n",
      "_________________________________________________________________\n",
      "Epoch 1/10\n",
      "14/14 [==============================] - 1s 20ms/step - loss: 0.6880 - acc: 0.5095 - val_loss: 0.6307 - val_acc: 0.9074\n",
      "Epoch 2/10\n",
      "14/14 [==============================] - 0s 6ms/step - loss: 0.6121 - acc: 0.9223 - val_loss: 0.5519 - val_acc: 0.9167\n",
      "Epoch 3/10\n",
      "14/14 [==============================] - 0s 7ms/step - loss: 0.5386 - acc: 0.9167 - val_loss: 0.4708 - val_acc: 0.9259\n",
      "Epoch 4/10\n",
      "14/14 [==============================] - 0s 7ms/step - loss: 0.4556 - acc: 0.9287 - val_loss: 0.3965 - val_acc: 0.9352\n",
      "Epoch 5/10\n",
      "14/14 [==============================] - 0s 6ms/step - loss: 0.3919 - acc: 0.9224 - val_loss: 0.3360 - val_acc: 0.9352\n",
      "Epoch 6/10\n",
      "14/14 [==============================] - 0s 6ms/step - loss: 0.3145 - acc: 0.9408 - val_loss: 0.2933 - val_acc: 0.9352\n",
      "Epoch 7/10\n",
      "14/14 [==============================] - 0s 6ms/step - loss: 0.2937 - acc: 0.9297 - val_loss: 0.2649 - val_acc: 0.9352\n",
      "Epoch 8/10\n",
      "14/14 [==============================] - 0s 5ms/step - loss: 0.2696 - acc: 0.9330 - val_loss: 0.2529 - val_acc: 0.9352\n",
      "Epoch 9/10\n",
      "14/14 [==============================] - 0s 6ms/step - loss: 0.2516 - acc: 0.9289 - val_loss: 0.2456 - val_acc: 0.9352\n",
      "Epoch 10/10\n",
      "14/14 [==============================] - 0s 5ms/step - loss: 0.2557 - acc: 0.9288 - val_loss: 0.2433 - val_acc: 0.9352\n"
     ]
    }
   ],
   "source": [
    "model = Sequential()\n",
    "# 나중에 임베딩된 입력을 Flatten 층에서 펼치기 위해 Embedding 층에 input_length를 지정합니다.\n",
    "model.add(Embedding(10000, 8, input_length=maxlen))\n",
    "# Embedding 층의 출력 크기는 (samples, maxlen, 8)가 됩니다.\n",
    "\n",
    "# 3D 임베딩 텐서를 (samples, maxlen * 8) 크기의 2D 텐서로 펼칩니다.\n",
    "model.add(Flatten())\n",
    "\n",
    "# 분류기를 추가합니다.\n",
    "model.add(Dense(1, activation='sigmoid'))\n",
    "model.compile(optimizer='rmsprop', loss='binary_crossentropy', metrics=['acc'])\n",
    "model.summary()\n",
    "\n",
    "history = model.fit(X_train, y_train,\n",
    "                    epochs=10,\n",
    "                    batch_size=32,\n",
    "                    validation_split=0.2)"
   ]
  },
  {
   "cell_type": "code",
   "execution_count": null,
   "metadata": {},
   "outputs": [],
   "source": []
  },
  {
   "cell_type": "code",
   "execution_count": null,
   "metadata": {},
   "outputs": [],
   "source": []
  },
  {
   "cell_type": "code",
   "execution_count": null,
   "metadata": {},
   "outputs": [],
   "source": []
  }
 ],
 "metadata": {
  "kernelspec": {
   "display_name": "Python 3",
   "language": "python",
   "name": "python3"
  },
  "language_info": {
   "codemirror_mode": {
    "name": "ipython",
    "version": 3
   },
   "file_extension": ".py",
   "mimetype": "text/x-python",
   "name": "python",
   "nbconvert_exporter": "python",
   "pygments_lexer": "ipython3",
   "version": "3.8.3"
  }
 },
 "nbformat": 4,
 "nbformat_minor": 4
}
